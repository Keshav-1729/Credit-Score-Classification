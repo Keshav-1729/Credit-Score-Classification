{
 "cells": [
  {
   "cell_type": "markdown",
   "id": "18a916d0",
   "metadata": {},
   "source": [
    "## Loading Dependencies"
   ]
  },
  {
   "cell_type": "code",
   "execution_count": 1,
   "id": "3800bc52",
   "metadata": {},
   "outputs": [],
   "source": [
    "from imblearn.combine import SMOTEENN\n",
    "from imblearn.combine import SMOTETomek\n",
    "import pandas as pd\n",
    "import seaborn as sns\n",
    "from sklearn.model_selection import train_test_split"
   ]
  },
  {
   "cell_type": "markdown",
   "id": "56e1dcd3",
   "metadata": {},
   "source": [
    "### Loading Data for splitting and Sampling"
   ]
  },
  {
   "cell_type": "code",
   "execution_count": 3,
   "id": "b7e50346",
   "metadata": {},
   "outputs": [
    {
     "data": {
      "text/html": [
       "<div>\n",
       "<style scoped>\n",
       "    .dataframe tbody tr th:only-of-type {\n",
       "        vertical-align: middle;\n",
       "    }\n",
       "\n",
       "    .dataframe tbody tr th {\n",
       "        vertical-align: top;\n",
       "    }\n",
       "\n",
       "    .dataframe thead th {\n",
       "        text-align: right;\n",
       "    }\n",
       "</style>\n",
       "<table border=\"1\" class=\"dataframe\">\n",
       "  <thead>\n",
       "    <tr style=\"text-align: right;\">\n",
       "      <th></th>\n",
       "      <th>Annual_Income</th>\n",
       "      <th>Total_EMI_per_month</th>\n",
       "      <th>Interest_Rate</th>\n",
       "      <th>Num_Credit_Inquiries</th>\n",
       "      <th>Payment_of_Min_Amount</th>\n",
       "      <th>Num_Credit_Card</th>\n",
       "      <th>Num_Bank_Accounts</th>\n",
       "      <th>Credit_History_Age</th>\n",
       "      <th>Num_of_Delayed_Payment</th>\n",
       "      <th>Num_of_Loan</th>\n",
       "      <th>Credit_Mix</th>\n",
       "      <th>Age</th>\n",
       "      <th>Output</th>\n",
       "    </tr>\n",
       "  </thead>\n",
       "  <tbody>\n",
       "    <tr>\n",
       "      <th>0</th>\n",
       "      <td>46477.560</td>\n",
       "      <td>212.248190</td>\n",
       "      <td>24</td>\n",
       "      <td>12.0</td>\n",
       "      <td>1</td>\n",
       "      <td>10</td>\n",
       "      <td>7</td>\n",
       "      <td>110.000000</td>\n",
       "      <td>22.0</td>\n",
       "      <td>6</td>\n",
       "      <td>0</td>\n",
       "      <td>39</td>\n",
       "      <td>0</td>\n",
       "    </tr>\n",
       "    <tr>\n",
       "      <th>1</th>\n",
       "      <td>153147.640</td>\n",
       "      <td>81.918963</td>\n",
       "      <td>3</td>\n",
       "      <td>1.0</td>\n",
       "      <td>0</td>\n",
       "      <td>4</td>\n",
       "      <td>5</td>\n",
       "      <td>308.000000</td>\n",
       "      <td>14.0</td>\n",
       "      <td>1</td>\n",
       "      <td>0</td>\n",
       "      <td>52</td>\n",
       "      <td>0</td>\n",
       "    </tr>\n",
       "    <tr>\n",
       "      <th>2</th>\n",
       "      <td>16833.105</td>\n",
       "      <td>51.702938</td>\n",
       "      <td>4</td>\n",
       "      <td>6.0</td>\n",
       "      <td>0</td>\n",
       "      <td>5</td>\n",
       "      <td>5</td>\n",
       "      <td>232.000000</td>\n",
       "      <td>15.0</td>\n",
       "      <td>4</td>\n",
       "      <td>0</td>\n",
       "      <td>39</td>\n",
       "      <td>2</td>\n",
       "    </tr>\n",
       "    <tr>\n",
       "      <th>3</th>\n",
       "      <td>131693.370</td>\n",
       "      <td>208.858473</td>\n",
       "      <td>10</td>\n",
       "      <td>6.0</td>\n",
       "      <td>0</td>\n",
       "      <td>7</td>\n",
       "      <td>0</td>\n",
       "      <td>267.000000</td>\n",
       "      <td>3.0</td>\n",
       "      <td>3</td>\n",
       "      <td>0</td>\n",
       "      <td>31</td>\n",
       "      <td>1</td>\n",
       "    </tr>\n",
       "    <tr>\n",
       "      <th>4</th>\n",
       "      <td>22233.980</td>\n",
       "      <td>39.598024</td>\n",
       "      <td>3</td>\n",
       "      <td>2.0</td>\n",
       "      <td>0</td>\n",
       "      <td>6</td>\n",
       "      <td>5</td>\n",
       "      <td>352.000000</td>\n",
       "      <td>0.0</td>\n",
       "      <td>4</td>\n",
       "      <td>0</td>\n",
       "      <td>33</td>\n",
       "      <td>1</td>\n",
       "    </tr>\n",
       "    <tr>\n",
       "      <th>...</th>\n",
       "      <td>...</td>\n",
       "      <td>...</td>\n",
       "      <td>...</td>\n",
       "      <td>...</td>\n",
       "      <td>...</td>\n",
       "      <td>...</td>\n",
       "      <td>...</td>\n",
       "      <td>...</td>\n",
       "      <td>...</td>\n",
       "      <td>...</td>\n",
       "      <td>...</td>\n",
       "      <td>...</td>\n",
       "      <td>...</td>\n",
       "    </tr>\n",
       "    <tr>\n",
       "      <th>63672</th>\n",
       "      <td>7749555.000</td>\n",
       "      <td>51.878854</td>\n",
       "      <td>9</td>\n",
       "      <td>0.0</td>\n",
       "      <td>2</td>\n",
       "      <td>7</td>\n",
       "      <td>5</td>\n",
       "      <td>269.000000</td>\n",
       "      <td>20.0</td>\n",
       "      <td>1</td>\n",
       "      <td>1</td>\n",
       "      <td>35</td>\n",
       "      <td>1</td>\n",
       "    </tr>\n",
       "    <tr>\n",
       "      <th>63673</th>\n",
       "      <td>132753.520</td>\n",
       "      <td>268.916569</td>\n",
       "      <td>6</td>\n",
       "      <td>2.0</td>\n",
       "      <td>0</td>\n",
       "      <td>4</td>\n",
       "      <td>5</td>\n",
       "      <td>224.000000</td>\n",
       "      <td>9.0</td>\n",
       "      <td>3</td>\n",
       "      <td>0</td>\n",
       "      <td>18</td>\n",
       "      <td>1</td>\n",
       "    </tr>\n",
       "    <tr>\n",
       "      <th>63674</th>\n",
       "      <td>26265.810</td>\n",
       "      <td>46.662502</td>\n",
       "      <td>17</td>\n",
       "      <td>6.0</td>\n",
       "      <td>2</td>\n",
       "      <td>3</td>\n",
       "      <td>3</td>\n",
       "      <td>221.138208</td>\n",
       "      <td>19.0</td>\n",
       "      <td>4</td>\n",
       "      <td>0</td>\n",
       "      <td>32</td>\n",
       "      <td>1</td>\n",
       "    </tr>\n",
       "    <tr>\n",
       "      <th>63675</th>\n",
       "      <td>31407.100</td>\n",
       "      <td>115.206873</td>\n",
       "      <td>29</td>\n",
       "      <td>325.0</td>\n",
       "      <td>2</td>\n",
       "      <td>7</td>\n",
       "      <td>7</td>\n",
       "      <td>77.000000</td>\n",
       "      <td>25.0</td>\n",
       "      <td>8</td>\n",
       "      <td>0</td>\n",
       "      <td>39</td>\n",
       "      <td>0</td>\n",
       "    </tr>\n",
       "    <tr>\n",
       "      <th>63676</th>\n",
       "      <td>21700.680</td>\n",
       "      <td>212.314493</td>\n",
       "      <td>10</td>\n",
       "      <td>6.0</td>\n",
       "      <td>0</td>\n",
       "      <td>7</td>\n",
       "      <td>5</td>\n",
       "      <td>321.000000</td>\n",
       "      <td>11.0</td>\n",
       "      <td>0</td>\n",
       "      <td>0</td>\n",
       "      <td>55</td>\n",
       "      <td>2</td>\n",
       "    </tr>\n",
       "  </tbody>\n",
       "</table>\n",
       "<p>63677 rows × 13 columns</p>\n",
       "</div>"
      ],
      "text/plain": [
       "       Annual_Income  Total_EMI_per_month  Interest_Rate  \\\n",
       "0          46477.560           212.248190             24   \n",
       "1         153147.640            81.918963              3   \n",
       "2          16833.105            51.702938              4   \n",
       "3         131693.370           208.858473             10   \n",
       "4          22233.980            39.598024              3   \n",
       "...              ...                  ...            ...   \n",
       "63672    7749555.000            51.878854              9   \n",
       "63673     132753.520           268.916569              6   \n",
       "63674      26265.810            46.662502             17   \n",
       "63675      31407.100           115.206873             29   \n",
       "63676      21700.680           212.314493             10   \n",
       "\n",
       "       Num_Credit_Inquiries  Payment_of_Min_Amount  Num_Credit_Card  \\\n",
       "0                      12.0                      1               10   \n",
       "1                       1.0                      0                4   \n",
       "2                       6.0                      0                5   \n",
       "3                       6.0                      0                7   \n",
       "4                       2.0                      0                6   \n",
       "...                     ...                    ...              ...   \n",
       "63672                   0.0                      2                7   \n",
       "63673                   2.0                      0                4   \n",
       "63674                   6.0                      2                3   \n",
       "63675                 325.0                      2                7   \n",
       "63676                   6.0                      0                7   \n",
       "\n",
       "       Num_Bank_Accounts  Credit_History_Age  Num_of_Delayed_Payment  \\\n",
       "0                      7          110.000000                    22.0   \n",
       "1                      5          308.000000                    14.0   \n",
       "2                      5          232.000000                    15.0   \n",
       "3                      0          267.000000                     3.0   \n",
       "4                      5          352.000000                     0.0   \n",
       "...                  ...                 ...                     ...   \n",
       "63672                  5          269.000000                    20.0   \n",
       "63673                  5          224.000000                     9.0   \n",
       "63674                  3          221.138208                    19.0   \n",
       "63675                  7           77.000000                    25.0   \n",
       "63676                  5          321.000000                    11.0   \n",
       "\n",
       "       Num_of_Loan  Credit_Mix  Age  Output  \n",
       "0                6           0   39       0  \n",
       "1                1           0   52       0  \n",
       "2                4           0   39       2  \n",
       "3                3           0   31       1  \n",
       "4                4           0   33       1  \n",
       "...            ...         ...  ...     ...  \n",
       "63672            1           1   35       1  \n",
       "63673            3           0   18       1  \n",
       "63674            4           0   32       1  \n",
       "63675            8           0   39       0  \n",
       "63676            0           0   55       2  \n",
       "\n",
       "[63677 rows x 13 columns]"
      ]
     },
     "execution_count": 3,
     "metadata": {},
     "output_type": "execute_result"
    }
   ],
   "source": [
    "df=pd.read_csv('Model_data1.csv')\n",
    "df"
   ]
  },
  {
   "cell_type": "code",
   "execution_count": 5,
   "id": "a850563c",
   "metadata": {},
   "outputs": [],
   "source": [
    "X=df.drop('Output',axis=1)\n",
    "y=df['Output']"
   ]
  },
  {
   "cell_type": "code",
   "execution_count": 6,
   "id": "da6e42ac",
   "metadata": {},
   "outputs": [],
   "source": [
    "X_train, X_test, y_train, y_test = train_test_split(X, y, test_size=0.2, random_state=1234)\n",
    "X_train, X_dev, y_train, y_dev = train_test_split(X_train, y_train, test_size=0.2, random_state=1234)"
   ]
  },
  {
   "cell_type": "markdown",
   "id": "ff929b69",
   "metadata": {},
   "source": [
    "## Imbalanced Dataset"
   ]
  },
  {
   "cell_type": "code",
   "execution_count": 10,
   "id": "cea7a6db",
   "metadata": {},
   "outputs": [
    {
     "data": {
      "image/png": "[encoded data removed]",
      "text/plain": [
       "<Figure size 640x480 with 1 Axes>"
      ]
     },
     "metadata": {},
     "output_type": "display_data"
    }
   ],
   "source": [
    "ax=sns.countplot(x=y_train)\n",
    "for i in ax.containers:\n",
    "    ax.bar_label(i)"
   ]
  },
  {
   "cell_type": "markdown",
   "id": "1f3de9a6",
   "metadata": {},
   "source": [
    "## Using SMOTE + TOMEK links"
   ]
  },
  {
   "cell_type": "code",
   "execution_count": 11,
   "id": "756ca12d",
   "metadata": {},
   "outputs": [],
   "source": [
    "smtom=SMOTETomek(random_state=1234)\n",
    "X_train_smtom,y_train_smtom=smtom.fit_resample(X_train,y_train)"
   ]
  },
  {
   "cell_type": "code",
   "execution_count": 31,
   "id": "c654b768",
   "metadata": {},
   "outputs": [
    {
     "name": "stdout",
     "output_type": "stream",
     "text": [
      "Output\n",
      "2    20708\n",
      "0    20138\n",
      "1    19277\n",
      "Name: count, dtype: int64\n"
     ]
    },
    {
     "data": {
      "image/png": "[encoded data removed]",
      "text/plain": [
       "<Figure size 640x480 with 1 Axes>"
      ]
     },
     "metadata": {},
     "output_type": "display_data"
    }
   ],
   "source": [
    "print(y_train_smtom.value_counts())\n",
    "ax=sns.countplot(x=y_train_smtom)\n",
    "for i in ax.containers:\n",
    "    ax.bar_label(i)"
   ]
  },
  {
   "cell_type": "markdown",
   "id": "c1a40816",
   "metadata": {},
   "source": [
    "## Uisng SMOTE + ENN"
   ]
  },
  {
   "cell_type": "code",
   "execution_count": 18,
   "id": "552b054f",
   "metadata": {},
   "outputs": [],
   "source": [
    "smenn=SMOTEENN(random_state=1234)\n",
    "X_train_smenn,y_train_smenn=smenn.fit_resample(X_train,y_train)"
   ]
  },
  {
   "cell_type": "code",
   "execution_count": 32,
   "id": "5521aecd",
   "metadata": {},
   "outputs": [
    {
     "name": "stdout",
     "output_type": "stream",
     "text": [
      "Output\n",
      "2    15129\n",
      "0    13538\n",
      "1     9286\n",
      "Name: count, dtype: int64\n"
     ]
    },
    {
     "data": {
      "image/png": "[encoded data removed]",
      "text/plain": [
       "<Figure size 640x480 with 1 Axes>"
      ]
     },
     "metadata": {},
     "output_type": "display_data"
    }
   ],
   "source": [
    "print(y_train_smenn.value_counts())\n",
    "ax=sns.countplot(x=y_train_smenn)\n",
    "for i in ax.containers:\n",
    "    ax.bar_label(i)"
   ]
  },
  {
   "cell_type": "markdown",
   "id": "e9d3bb84",
   "metadata": {},
   "source": [
    "# Saving\n",
    "## Train Set:"
   ]
  },
  {
   "cell_type": "code",
   "execution_count": 22,
   "id": "d6303f01",
   "metadata": {},
   "outputs": [],
   "source": [
    "df_smtom=X_train_smtom\n",
    "df_smtom['Output']=y_train_smtom"
   ]
  },
  {
   "cell_type": "code",
   "execution_count": 24,
   "id": "f332bc99",
   "metadata": {},
   "outputs": [],
   "source": [
    "df_smenn=X_train_smenn\n",
    "df_smenn['Output']=y_train_smenn"
   ]
  },
  {
   "cell_type": "code",
   "execution_count": 27,
   "id": "18252313",
   "metadata": {},
   "outputs": [],
   "source": [
    "df_smenn.to_csv('train_enn.csv',index=False)\n",
    "df_smtom.to_csv('train_tom.csv',index=False)"
   ]
  },
  {
   "cell_type": "markdown",
   "id": "7e658ade",
   "metadata": {},
   "source": [
    "## Dev and Test Set:"
   ]
  },
  {
   "cell_type": "code",
   "execution_count": 28,
   "id": "b2f7139c",
   "metadata": {},
   "outputs": [],
   "source": [
    "df_dev=X_dev\n",
    "df_dev['Output']=y_dev"
   ]
  },
  {
   "cell_type": "code",
   "execution_count": 29,
   "id": "2664ab52",
   "metadata": {},
   "outputs": [],
   "source": [
    "df_test=X_test\n",
    "df_test['Output']=y_test"
   ]
  },
  {
   "cell_type": "code",
   "execution_count": 30,
   "id": "ccd48a11",
   "metadata": {},
   "outputs": [],
   "source": [
    "df_dev.to_csv('dev.csv',index=False)\n",
    "df_test.to_csv('test.csv',index=False)"
   ]
  },
  {
   "cell_type": "markdown",
   "id": "389b203c",
   "metadata": {},
   "source": [
    "# ----------------------------------Done with the SAVING---------------------------------------------"
   ]
  },
  {
   "cell_type": "code",
   "execution_count": null,
   "id": "663ecc40",
   "metadata": {},
   "outputs": [],
   "source": []
  }
 ],
 "metadata": {
  "kernelspec": {
   "display_name": "Python 3 (ipykernel)",
   "language": "python",
   "name": "python3"
  },
  "language_info": {
   "codemirror_mode": {
    "name": "ipython",
    "version": 3
   },
   "file_extension": ".py",
   "mimetype": "text/x-python",
   "name": "python",
   "nbconvert_exporter": "python",
   "pygments_lexer": "ipython3",
   "version": "3.11.5"
  }
 },
 "nbformat": 4,
 "nbformat_minor": 5
}

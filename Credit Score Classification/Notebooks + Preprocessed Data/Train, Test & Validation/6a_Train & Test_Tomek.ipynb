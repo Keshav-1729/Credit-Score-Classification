{
 "cells": [
  {
   "cell_type": "markdown",
   "id": "91bf0592",
   "metadata": {},
   "source": [
    "## Loading Dependencies"
   ]
  },
  {
   "cell_type": "code",
   "execution_count": 2,
   "id": "a3dfb9d8",
   "metadata": {},
   "outputs": [],
   "source": [
    "import numpy as np\n",
    "import pandas as pd\n",
    "import seaborn as sns\n",
    "from sklearn.metrics import accuracy_score, f1_score, make_scorer\n",
    "from sklearn.linear_model import LogisticRegression\n",
    "from sklearn.ensemble import RandomForestClassifier\n",
    "from sklearn.neighbors import KNeighborsClassifier\n",
    "from sklearn.tree import DecisionTreeClassifier\n",
    "import lightgbm as lgb\n",
    "import xgboost as xgb"
   ]
  },
  {
   "cell_type": "code",
   "execution_count": 29,
   "id": "eb1ff4e5",
   "metadata": {},
   "outputs": [],
   "source": [
    "df_smtom=pd.read_csv('train_tom.csv')\n",
    "df_dev=pd.read_csv('dev.csv')"
   ]
  },
  {
   "cell_type": "code",
   "execution_count": 30,
   "id": "a090cdf8",
   "metadata": {},
   "outputs": [],
   "source": [
    "X_train=df_smtom.drop('Output',axis=1)\n",
    "y_train=df_smtom['Output']\n",
    "X_dev=df_dev.drop('Output',axis=1)\n",
    "y_dev=df_dev['Output']"
   ]
  },
  {
   "cell_type": "markdown",
   "id": "0a1a314d",
   "metadata": {},
   "source": [
    "## Scaling"
   ]
  },
  {
   "cell_type": "code",
   "execution_count": 31,
   "id": "24bbcefd",
   "metadata": {},
   "outputs": [],
   "source": [
    "from sklearn.preprocessing import RobustScaler\n",
    "scaler = RobustScaler()\n",
    "X_train = scaler.fit_transform(X_train)\n",
    "X_dev= scaler.transform(X_dev)"
   ]
  },
  {
   "cell_type": "markdown",
   "id": "6acb9e28",
   "metadata": {},
   "source": [
    "## Baseline model: Logistic Regression"
   ]
  },
  {
   "cell_type": "code",
   "execution_count": 32,
   "id": "1d5d7b4d",
   "metadata": {},
   "outputs": [
    {
     "name": "stdout",
     "output_type": "stream",
     "text": [
      "Baseline (Logistic Regression) Accuracy: 0.6130140347433507\n",
      "Baseline (Logistic Regression) F1 Score: 0.6144518525184514\n"
     ]
    }
   ],
   "source": [
    "baseline_model = LogisticRegression(max_iter=1000, random_state=42)\n",
    "baseline_model.fit(X_train, y_train)\n",
    "baseline_pred = baseline_model.predict(X_dev)\n",
    "baseline_accuracy = accuracy_score(y_dev, baseline_pred)\n",
    "baseline_f1 = f1_score(y_dev, baseline_pred, average='weighted')\n",
    "print(\"Baseline (Logistic Regression) Accuracy:\", baseline_accuracy)\n",
    "print(\"Baseline (Logistic Regression) F1 Score:\", baseline_f1)"
   ]
  },
  {
   "cell_type": "markdown",
   "id": "db0f8478",
   "metadata": {},
   "source": [
    "## Models to Compare"
   ]
  },
  {
   "cell_type": "code",
   "execution_count": 6,
   "id": "0a9bb499",
   "metadata": {},
   "outputs": [
    {
     "name": "stdout",
     "output_type": "stream",
     "text": [
      "Random Forest Accuracy: 0.7613112179801746\n",
      "Random Forest F1 Score: 0.7626928736457307\n",
      "K-Nearest Neighbors Accuracy: 0.6715084895475513\n",
      "K-Nearest Neighbors F1 Score: 0.6728793311985337\n",
      "Decision Tree Accuracy: 0.7037000687015409\n",
      "Decision Tree F1 Score: 0.7046673657774234\n",
      "[LightGBM] [Info] Auto-choosing row-wise multi-threading, the overhead of testing was 0.002605 seconds.\n",
      "You can set `force_row_wise=true` to remove the overhead.\n",
      "And if memory is not enough, you can set `force_col_wise=true`.\n",
      "[LightGBM] [Info] Total Bins 2110\n",
      "[LightGBM] [Info] Number of data points in the train set: 60123, number of used features: 12\n",
      "[LightGBM] [Info] Start training from score -1.093784\n",
      "[LightGBM] [Info] Start training from score -1.137480\n",
      "[LightGBM] [Info] Start training from score -1.065872\n",
      "LightGBM Accuracy: 0.6917263715771911\n",
      "LightGBM F1 Score: 0.6943194664444743\n",
      "XGBoost Accuracy: 0.7113553832564531\n",
      "XGBoost F1 Score: 0.7134658550440531\n"
     ]
    }
   ],
   "source": [
    "models = {\n",
    "    \"Random Forest\": RandomForestClassifier(n_estimators=100, random_state=42),\n",
    "    \"K-Nearest Neighbors\": KNeighborsClassifier(n_neighbors=5),\n",
    "    \"Decision Tree\": DecisionTreeClassifier(random_state=42),\n",
    "    \"LightGBM\": lgb.LGBMClassifier(random_state=42),\n",
    "    \"XGBoost\": xgb.XGBClassifier(random_state=42)\n",
    "}\n",
    "\n",
    "for name, model in models.items():\n",
    "    model.fit(X_train, y_train)\n",
    "    y_pred = model.predict(X_dev)\n",
    "    accuracy = accuracy_score(y_dev,y_pred)\n",
    "    f1 = f1_score(y_dev, y_pred, average='weighted')\n",
    "    print(f\"{name} Accuracy:\", accuracy)\n",
    "    print(f\"{name} F1 Score:\", f1)"
   ]
  },
  {
   "cell_type": "code",
   "execution_count": 4,
   "id": "16623ae5",
   "metadata": {},
   "outputs": [
    {
     "data": {
      "image/png": "[encoded data removed]",
      "text/plain": [
       "<Figure size 640x480 with 1 Axes>"
      ]
     },
     "metadata": {},
     "output_type": "display_data"
    }
   ],
   "source": [
    "m = {\n",
    "    \"Random Forest\": 0.7626928736457307*100,\n",
    "    \"K-Nearest Neighbors\": 0.6728793311985337*100,\n",
    "    \"Decision Tree\": 0.7046673657774234*100,\n",
    "    \"LightGBM\": 0.6943194664444743*100,\n",
    "    \"XGBoost\": 0.7134658550440531*100\n",
    "}\n",
    "m= dict(sorted(m.items(), key=lambda item: item[1],reverse=True))\n",
    "\n",
    "ax=sns.barplot(y=list(m.keys()),x=list(m.values()))\n",
    "sns.despine()\n",
    "for i in ax.containers:\n",
    "    ax.bar_label(i)"
   ]
  },
  {
   "cell_type": "markdown",
   "id": "2f0ed249",
   "metadata": {},
   "source": [
    "## Random Search"
   ]
  },
  {
   "cell_type": "code",
   "execution_count": 11,
   "id": "cd636855",
   "metadata": {},
   "outputs": [
    {
     "name": "stdout",
     "output_type": "stream",
     "text": [
      "Best Parameters: {'n_estimators': 100, 'min_samples_split': 2, 'min_samples_leaf': 2, 'max_depth': None}\n",
      "Best Model Accuracy: 0.7523800176661105\n",
      "Best Model F1 Score: 0.754302407011652\n"
     ]
    }
   ],
   "source": [
    "from sklearn.model_selection import RandomizedSearchCV\n",
    "\n",
    "param_dist = {\n",
    "    'n_estimators': [50, 100, 200],\n",
    "    'max_depth': [None, 10, 20],\n",
    "    'min_samples_split': [2, 5, 10],\n",
    "    'min_samples_leaf': [1, 2, 4]\n",
    "}\n",
    "\n",
    "# Initialize Random Forest classifier\n",
    "rf_classifier = RandomForestClassifier(random_state=1234)\n",
    "scorer = make_scorer(f1_score, average='weighted')\n",
    "\n",
    "# Perform grid search with cross-validation\n",
    "grid_search = RandomizedSearchCV(estimator=rf_classifier, param_distributions=param_dist, \n",
    "                                   n_iter=10, cv=3, scoring=scorer, random_state=1234)\n",
    "grid_search.fit(X_train, y_train)\n",
    "\n",
    "results = grid_search.cv_results_\n",
    "sorted_indices = results['mean_test_score'].argsort()[::-1]\n",
    "\n",
    "# Get the best parameters and model\n",
    "best_params = grid_search.best_params_\n",
    "best_model = grid_search.best_estimator_\n",
    "\n",
    "# Evaluate the best model on the test set\n",
    "y_pred = best_model.predict(X_dev)\n",
    "best_accuracy = accuracy_score(y_dev, y_pred)\n",
    "best_f1 = f1_score(y_dev, y_pred, average='weighted')\n",
    "\n",
    "print(\"Best Parameters:\", best_params)\n",
    "print(\"Best Model Accuracy:\", best_accuracy)\n",
    "print(\"Best Model F1 Score:\", best_f1)"
   ]
  },
  {
   "cell_type": "markdown",
   "id": "f2319e95",
   "metadata": {},
   "source": [
    "## Bayesian Optimization"
   ]
  },
  {
   "cell_type": "code",
   "execution_count": 13,
   "id": "f94ad116",
   "metadata": {
    "scrolled": true
   },
   "outputs": [
    {
     "name": "stdout",
     "output_type": "stream",
     "text": [
      "Best Parameters: OrderedDict([('max_depth', 38), ('max_features', 'sqrt'), ('min_samples_leaf', 1), ('min_samples_split', 2), ('n_estimators', 200)])\n",
      "Best Model F1 Score: 0.7637188051861438\n"
     ]
    }
   ],
   "source": [
    "from skopt import BayesSearchCV\n",
    "from skopt.space import Real, Integer, Categorical\n",
    "\n",
    "# Define the search space for hyperparameters\n",
    "param_space = {\n",
    "    'n_estimators': Integer(50, 200),\n",
    "    'max_depth': Integer(1, 50),\n",
    "    'min_samples_split': Integer(2, 20),\n",
    "    'min_samples_leaf': Integer(1, 10),\n",
    "    'max_features': Categorical([None, 'sqrt', 'log2'])\n",
    "}\n",
    "\n",
    "# Initialize RandomForestClassifier\n",
    "rf_classifier = RandomForestClassifier(random_state=1234)\n",
    "\n",
    "# Define BayesSearchCV with F1 score as the optimization metric\n",
    "opt = BayesSearchCV(estimator=rf_classifier, search_spaces=param_space, scoring='f1_weighted', n_iter=30, cv=3, n_jobs=-1)\n",
    "\n",
    "# Fit the model\n",
    "opt.fit(X_train, y_train)\n",
    "\n",
    "# Get the best parameters and model\n",
    "best_params = opt.best_params_\n",
    "best_model = opt.best_estimator_\n",
    "\n",
    "# Evaluate the best model on the test set\n",
    "y_pred = best_model.predict(X_dev)\n",
    "best_f1 = f1_score(y_dev, y_pred, average='weighted')\n",
    "\n",
    "print(\"Best Parameters:\", best_params)\n",
    "print(\"Best Model F1 Score:\", best_f1)"
   ]
  },
  {
   "cell_type": "code",
   "execution_count": 34,
   "id": "a85b0169",
   "metadata": {},
   "outputs": [],
   "source": [
    "df_test=pd.read_csv('test.csv')\n",
    "X_test=scaler.fit_transform(df_test.drop('Output',axis=1))\n",
    "y_test=df_test['Output']"
   ]
  },
  {
   "cell_type": "code",
   "execution_count": 37,
   "id": "94255f2f",
   "metadata": {},
   "outputs": [
    {
     "name": "stdout",
     "output_type": "stream",
     "text": [
      "Accuracy: 0.6165986180904522\n",
      "F1 Score: 0.6220995286804212\n"
     ]
    }
   ],
   "source": [
    "rf_classifier=RandomForestClassifier(random_state=1234,n_estimators=200,max_depth=38,max_features='sqrt',min_samples_leaf=1,min_samples_split=2)\n",
    "rf_classifier.fit(X_train,y_train)\n",
    "y_pred = rf_classifier.predict(X_test)\n",
    "accuracy = accuracy_score(y_test,y_pred)\n",
    "f1 = f1_score(y_test, y_pred, average='weighted')\n",
    "print(f\"Accuracy:\", accuracy)\n",
    "print(f\"F1 Score:\", f1)"
   ]
  },
  {
   "cell_type": "code",
   "execution_count": 38,
   "id": "c6fbd579",
   "metadata": {},
   "outputs": [
    {
     "name": "stdout",
     "output_type": "stream",
     "text": [
      "Accuracy: 0.6173052763819096\n",
      "F1 Score: 0.6229186294933483\n"
     ]
    }
   ],
   "source": [
    "rf_classifier=RandomForestClassifier(random_state=1234)\n",
    "rf_classifier.fit(X_train,y_train)\n",
    "y_pred = rf_classifier.predict(X_test)\n",
    "accuracy = accuracy_score(y_test,y_pred)\n",
    "f1 = f1_score(y_test, y_pred, average='weighted')\n",
    "print(f\"Accuracy:\", accuracy)\n",
    "print(f\"F1 Score:\", f1)"
   ]
  },
  {
   "cell_type": "markdown",
   "id": "cfc6e689",
   "metadata": {},
   "source": [
    "## Final F1 Score: 0.6229186294933483"
   ]
  }
 ],
 "metadata": {
  "kernelspec": {
   "display_name": "Python 3 (ipykernel)",
   "language": "python",
   "name": "python3"
  },
  "language_info": {
   "codemirror_mode": {
    "name": "ipython",
    "version": 3
   },
   "file_extension": ".py",
   "mimetype": "text/x-python",
   "name": "python",
   "nbconvert_exporter": "python",
   "pygments_lexer": "ipython3",
   "version": "3.11.5"
  }
 },
 "nbformat": 4,
 "nbformat_minor": 5
}
